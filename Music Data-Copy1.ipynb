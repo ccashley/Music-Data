{
 "cells": [
  {
   "cell_type": "code",
   "execution_count": 39,
   "id": "691a4e1c",
   "metadata": {},
   "outputs": [],
   "source": [
    "import pandas as pd\n",
    "import os"
   ]
  },
  {
   "cell_type": "code",
   "execution_count": 40,
   "id": "c36ae303",
   "metadata": {},
   "outputs": [],
   "source": [
    "airbnb_data = pd.read_csv(\"/Users/ashleychen/Downloads/annotations_final.csv\")"
   ]
  },
  {
   "cell_type": "code",
   "execution_count": 41,
   "id": "3de40167",
   "metadata": {},
   "outputs": [
    {
     "data": {
      "text/html": [
       "<div>\n",
       "<style scoped>\n",
       "    .dataframe tbody tr th:only-of-type {\n",
       "        vertical-align: middle;\n",
       "    }\n",
       "\n",
       "    .dataframe tbody tr th {\n",
       "        vertical-align: top;\n",
       "    }\n",
       "\n",
       "    .dataframe thead th {\n",
       "        text-align: right;\n",
       "    }\n",
       "</style>\n",
       "<table border=\"1\" class=\"dataframe\">\n",
       "  <thead>\n",
       "    <tr style=\"text-align: right;\">\n",
       "      <th></th>\n",
       "      <th>clip_id\\t\"no voice\"\\t\"singer\"\\t\"duet\"\\t\"plucking\"\\t\"hard rock\"\\t\"world\"\\t\"bongos\"\\t\"harpsichord\"\\t\"female singing\"\\t\"clasical\"\\t\"sitar\"\\t\"chorus\"\\t\"female opera\"\\t\"male vocal\"\\t\"vocals\"\\t\"clarinet\"\\t\"heavy\"\\t\"silence\"\\t\"beats\"\\t\"men\"\\t\"woodwind\"\\t\"funky\"\\t\"no strings\"\\t\"chimes\"\\t\"foreign\"\\t\"no piano\"\\t\"horns\"\\t\"classical\"\\t\"female\"\\t\"no voices\"\\t\"soft rock\"\\t\"eerie\"\\t\"spacey\"\\t\"jazz\"\\t\"guitar\"\\t\"quiet\"\\t\"no beat\"\\t\"banjo\"\\t\"electric\"\\t\"solo\"\\t\"violins\"\\t\"folk\"\\t\"female voice\"\\t\"wind\"\\t\"happy\"\\t\"ambient\"\\t\"new age\"\\t\"synth\"\\t\"funk\"\\t\"no singing\"\\t\"middle eastern\"\\t\"trumpet\"\\t\"percussion\"\\t\"drum\"\\t\"airy\"\\t\"voice\"\\t\"repetitive\"\\t\"birds\"\\t\"space\"\\t\"strings\"\\t\"bass\"\\t\"harpsicord\"\\t\"medieval\"\\t\"male voice\"\\t\"girl\"\\t\"keyboard\"\\t\"acoustic\"\\t\"loud\"\\t\"classic\"\\t\"string\"\\t\"drums\"\\t\"electronic\"\\t\"not classical\"\\t\"chanting\"\\t\"no violin\"\\t\"not rock\"\\t\"no guitar\"\\t\"organ\"\\t\"no vocal\"\\t\"talking\"\\t\"choral\"\\t\"weird\"\\t\"opera\"\\t\"soprano\"\\t\"fast\"\\t\"acoustic guitar\"\\t\"electric guitar\"\\t\"male singer\"\\t\"man singing\"\\t\"classical guitar\"\\t\"country\"\\t\"violin\"\\t\"electro\"\\t\"reggae\"\\t\"tribal\"\\t\"dark\"\\t\"male opera\"\\t\"no vocals\"\\t\"irish\"\\t\"electronica\"\\t\"horn\"\\t\"operatic\"\\t\"arabic\"\\t\"lol\"\\t\"low\"\\t\"instrumental\"\\t\"trance\"\\t\"chant\"\\t\"strange\"\\t\"drone\"\\t\"synthesizer\"\\t\"heavy metal\"\\t\"modern\"\\t\"disco\"\\t\"bells\"\\t\"man\"\\t\"deep\"\\t\"fast beat\"\\t\"industrial\"\\t\"hard\"\\t\"harp\"\\t\"no flute\"\\t\"jungle\"\\t\"pop\"\\t\"lute\"\\t\"female vocal\"\\t\"oboe\"\\t\"mellow\"\\t\"orchestral\"\\t\"viola\"\\t\"light\"\\t\"echo\"\\t\"piano\"\\t\"celtic\"\\t\"male vocals\"\\t\"orchestra\"\\t\"eastern\"\\t\"old\"\\t\"flutes\"\\t\"punk\"\\t\"spanish\"\\t\"sad\"\\t\"sax\"\\t\"slow\"\\t\"male\"\\t\"blues\"\\t\"vocal\"\\t\"indian\"\\t\"no singer\"\\t\"scary\"\\t\"india\"\\t\"woman\"\\t\"woman singing\"\\t\"rock\"\\t\"dance\"\\t\"piano solo\"\\t\"guitars\"\\t\"no drums\"\\t\"jazzy\"\\t\"singing\"\\t\"cello\"\\t\"calm\"\\t\"female vocals\"\\t\"voices\"\\t\"different\"\\t\"techno\"\\t\"clapping\"\\t\"house\"\\t\"monks\"\\t\"flute\"\\t\"not opera\"\\t\"not english\"\\t\"oriental\"\\t\"beat\"\\t\"upbeat\"\\t\"soft\"\\t\"noise\"\\t\"choir\"\\t\"female singer\"\\t\"rap\"\\t\"metal\"\\t\"hip hop\"\\t\"quick\"\\t\"water\"\\t\"baroque\"\\t\"women\"\\t\"fiddle\"\\t\"english\"\\t\"mp3_path\"</th>\n",
       "    </tr>\n",
       "  </thead>\n",
       "  <tbody>\n",
       "    <tr>\n",
       "      <th>0</th>\n",
       "      <td>2\\t\"0\"\\t\"0\"\\t\"0\"\\t\"0\"\\t\"0\"\\t\"0\"\\t\"0\"\\t\"0\"\\t\"0\"...</td>\n",
       "    </tr>\n",
       "    <tr>\n",
       "      <th>1</th>\n",
       "      <td>6\\t\"0\"\\t\"0\"\\t\"0\"\\t\"0\"\\t\"0\"\\t\"0\"\\t\"0\"\\t\"0\"\\t\"0\"...</td>\n",
       "    </tr>\n",
       "    <tr>\n",
       "      <th>2</th>\n",
       "      <td>10\\t\"0\"\\t\"0\"\\t\"0\"\\t\"0\"\\t\"0\"\\t\"0\"\\t\"0\"\\t\"0\"\\t\"0...</td>\n",
       "    </tr>\n",
       "    <tr>\n",
       "      <th>3</th>\n",
       "      <td>11\\t\"0\"\\t\"0\"\\t\"0\"\\t\"0\"\\t\"0\"\\t\"0\"\\t\"0\"\\t\"0\"\\t\"0...</td>\n",
       "    </tr>\n",
       "    <tr>\n",
       "      <th>4</th>\n",
       "      <td>12\\t\"0\"\\t\"0\"\\t\"0\"\\t\"0\"\\t\"0\"\\t\"0\"\\t\"0\"\\t\"0\"\\t\"0...</td>\n",
       "    </tr>\n",
       "  </tbody>\n",
       "</table>\n",
       "</div>"
      ],
      "text/plain": [
       "  clip_id\\t\"no voice\"\\t\"singer\"\\t\"duet\"\\t\"plucking\"\\t\"hard rock\"\\t\"world\"\\t\"bongos\"\\t\"harpsichord\"\\t\"female singing\"\\t\"clasical\"\\t\"sitar\"\\t\"chorus\"\\t\"female opera\"\\t\"male vocal\"\\t\"vocals\"\\t\"clarinet\"\\t\"heavy\"\\t\"silence\"\\t\"beats\"\\t\"men\"\\t\"woodwind\"\\t\"funky\"\\t\"no strings\"\\t\"chimes\"\\t\"foreign\"\\t\"no piano\"\\t\"horns\"\\t\"classical\"\\t\"female\"\\t\"no voices\"\\t\"soft rock\"\\t\"eerie\"\\t\"spacey\"\\t\"jazz\"\\t\"guitar\"\\t\"quiet\"\\t\"no beat\"\\t\"banjo\"\\t\"electric\"\\t\"solo\"\\t\"violins\"\\t\"folk\"\\t\"female voice\"\\t\"wind\"\\t\"happy\"\\t\"ambient\"\\t\"new age\"\\t\"synth\"\\t\"funk\"\\t\"no singing\"\\t\"middle eastern\"\\t\"trumpet\"\\t\"percussion\"\\t\"drum\"\\t\"airy\"\\t\"voice\"\\t\"repetitive\"\\t\"birds\"\\t\"space\"\\t\"strings\"\\t\"bass\"\\t\"harpsicord\"\\t\"medieval\"\\t\"male voice\"\\t\"girl\"\\t\"keyboard\"\\t\"acoustic\"\\t\"loud\"\\t\"classic\"\\t\"string\"\\t\"drums\"\\t\"electronic\"\\t\"not classical\"\\t\"chanting\"\\t\"no violin\"\\t\"not rock\"\\t\"no guitar\"\\t\"organ\"\\t\"no vocal\"\\t\"talking\"\\t\"choral\"\\t\"weird\"\\t\"opera\"\\t\"soprano\"\\t\"fast\"\\t\"acoustic guitar\"\\t\"electric guitar\"\\t\"male singer\"\\t\"man singing\"\\t\"classical guitar\"\\t\"country\"\\t\"violin\"\\t\"electro\"\\t\"reggae\"\\t\"tribal\"\\t\"dark\"\\t\"male opera\"\\t\"no vocals\"\\t\"irish\"\\t\"electronica\"\\t\"horn\"\\t\"operatic\"\\t\"arabic\"\\t\"lol\"\\t\"low\"\\t\"instrumental\"\\t\"trance\"\\t\"chant\"\\t\"strange\"\\t\"drone\"\\t\"synthesizer\"\\t\"heavy metal\"\\t\"modern\"\\t\"disco\"\\t\"bells\"\\t\"man\"\\t\"deep\"\\t\"fast beat\"\\t\"industrial\"\\t\"hard\"\\t\"harp\"\\t\"no flute\"\\t\"jungle\"\\t\"pop\"\\t\"lute\"\\t\"female vocal\"\\t\"oboe\"\\t\"mellow\"\\t\"orchestral\"\\t\"viola\"\\t\"light\"\\t\"echo\"\\t\"piano\"\\t\"celtic\"\\t\"male vocals\"\\t\"orchestra\"\\t\"eastern\"\\t\"old\"\\t\"flutes\"\\t\"punk\"\\t\"spanish\"\\t\"sad\"\\t\"sax\"\\t\"slow\"\\t\"male\"\\t\"blues\"\\t\"vocal\"\\t\"indian\"\\t\"no singer\"\\t\"scary\"\\t\"india\"\\t\"woman\"\\t\"woman singing\"\\t\"rock\"\\t\"dance\"\\t\"piano solo\"\\t\"guitars\"\\t\"no drums\"\\t\"jazzy\"\\t\"singing\"\\t\"cello\"\\t\"calm\"\\t\"female vocals\"\\t\"voices\"\\t\"different\"\\t\"techno\"\\t\"clapping\"\\t\"house\"\\t\"monks\"\\t\"flute\"\\t\"not opera\"\\t\"not english\"\\t\"oriental\"\\t\"beat\"\\t\"upbeat\"\\t\"soft\"\\t\"noise\"\\t\"choir\"\\t\"female singer\"\\t\"rap\"\\t\"metal\"\\t\"hip hop\"\\t\"quick\"\\t\"water\"\\t\"baroque\"\\t\"women\"\\t\"fiddle\"\\t\"english\"\\t\"mp3_path\"\n",
       "0  2\\t\"0\"\\t\"0\"\\t\"0\"\\t\"0\"\\t\"0\"\\t\"0\"\\t\"0\"\\t\"0\"\\t\"0\"...                                                                                                                                                                                                                                                                                                                                                                                                                                                                                                                                                                                                                                                                                                                                                                                                                                                                                                                                                                                                                                                                                                                                                                                                                                                                                                                                                                                                                                                                                                                                                                                                                                                                                                                                                                                                                                                                                                                                                                                                                                                                                  \n",
       "1  6\\t\"0\"\\t\"0\"\\t\"0\"\\t\"0\"\\t\"0\"\\t\"0\"\\t\"0\"\\t\"0\"\\t\"0\"...                                                                                                                                                                                                                                                                                                                                                                                                                                                                                                                                                                                                                                                                                                                                                                                                                                                                                                                                                                                                                                                                                                                                                                                                                                                                                                                                                                                                                                                                                                                                                                                                                                                                                                                                                                                                                                                                                                                                                                                                                                                                                  \n",
       "2  10\\t\"0\"\\t\"0\"\\t\"0\"\\t\"0\"\\t\"0\"\\t\"0\"\\t\"0\"\\t\"0\"\\t\"0...                                                                                                                                                                                                                                                                                                                                                                                                                                                                                                                                                                                                                                                                                                                                                                                                                                                                                                                                                                                                                                                                                                                                                                                                                                                                                                                                                                                                                                                                                                                                                                                                                                                                                                                                                                                                                                                                                                                                                                                                                                                                                  \n",
       "3  11\\t\"0\"\\t\"0\"\\t\"0\"\\t\"0\"\\t\"0\"\\t\"0\"\\t\"0\"\\t\"0\"\\t\"0...                                                                                                                                                                                                                                                                                                                                                                                                                                                                                                                                                                                                                                                                                                                                                                                                                                                                                                                                                                                                                                                                                                                                                                                                                                                                                                                                                                                                                                                                                                                                                                                                                                                                                                                                                                                                                                                                                                                                                                                                                                                                                  \n",
       "4  12\\t\"0\"\\t\"0\"\\t\"0\"\\t\"0\"\\t\"0\"\\t\"0\"\\t\"0\"\\t\"0\"\\t\"0...                                                                                                                                                                                                                                                                                                                                                                                                                                                                                                                                                                                                                                                                                                                                                                                                                                                                                                                                                                                                                                                                                                                                                                                                                                                                                                                                                                                                                                                                                                                                                                                                                                                                                                                                                                                                                                                                                                                                                                                                                                                                                  "
      ]
     },
     "execution_count": 41,
     "metadata": {},
     "output_type": "execute_result"
    }
   ],
   "source": [
    "airbnb_data.head()"
   ]
  },
  {
   "cell_type": "code",
   "execution_count": 51,
   "id": "d1d1152c",
   "metadata": {},
   "outputs": [
    {
     "data": {
      "text/plain": [
       "Index(['clip_id\\t\"no voice\"\\t\"singer\"\\t\"duet\"\\t\"plucking\"\\t\"hard rock\"\\t\"world\"\\t\"bongos\"\\t\"harpsichord\"\\t\"female singing\"\\t\"clasical\"\\t\"sitar\"\\t\"chorus\"\\t\"female opera\"\\t\"male vocal\"\\t\"vocals\"\\t\"clarinet\"\\t\"heavy\"\\t\"silence\"\\t\"beats\"\\t\"men\"\\t\"woodwind\"\\t\"funky\"\\t\"no strings\"\\t\"chimes\"\\t\"foreign\"\\t\"no piano\"\\t\"horns\"\\t\"classical\"\\t\"female\"\\t\"no voices\"\\t\"soft rock\"\\t\"eerie\"\\t\"spacey\"\\t\"jazz\"\\t\"guitar\"\\t\"quiet\"\\t\"no beat\"\\t\"banjo\"\\t\"electric\"\\t\"solo\"\\t\"violins\"\\t\"folk\"\\t\"female voice\"\\t\"wind\"\\t\"happy\"\\t\"ambient\"\\t\"new age\"\\t\"synth\"\\t\"funk\"\\t\"no singing\"\\t\"middle eastern\"\\t\"trumpet\"\\t\"percussion\"\\t\"drum\"\\t\"airy\"\\t\"voice\"\\t\"repetitive\"\\t\"birds\"\\t\"space\"\\t\"strings\"\\t\"bass\"\\t\"harpsicord\"\\t\"medieval\"\\t\"male voice\"\\t\"girl\"\\t\"keyboard\"\\t\"acoustic\"\\t\"loud\"\\t\"classic\"\\t\"string\"\\t\"drums\"\\t\"electronic\"\\t\"not classical\"\\t\"chanting\"\\t\"no violin\"\\t\"not rock\"\\t\"no guitar\"\\t\"organ\"\\t\"no vocal\"\\t\"talking\"\\t\"choral\"\\t\"weird\"\\t\"opera\"\\t\"soprano\"\\t\"fast\"\\t\"acoustic guitar\"\\t\"electric guitar\"\\t\"male singer\"\\t\"man singing\"\\t\"classical guitar\"\\t\"country\"\\t\"violin\"\\t\"electro\"\\t\"reggae\"\\t\"tribal\"\\t\"dark\"\\t\"male opera\"\\t\"no vocals\"\\t\"irish\"\\t\"electronica\"\\t\"horn\"\\t\"operatic\"\\t\"arabic\"\\t\"lol\"\\t\"low\"\\t\"instrumental\"\\t\"trance\"\\t\"chant\"\\t\"strange\"\\t\"drone\"\\t\"synthesizer\"\\t\"heavy metal\"\\t\"modern\"\\t\"disco\"\\t\"bells\"\\t\"man\"\\t\"deep\"\\t\"fast beat\"\\t\"industrial\"\\t\"hard\"\\t\"harp\"\\t\"no flute\"\\t\"jungle\"\\t\"pop\"\\t\"lute\"\\t\"female vocal\"\\t\"oboe\"\\t\"mellow\"\\t\"orchestral\"\\t\"viola\"\\t\"light\"\\t\"echo\"\\t\"piano\"\\t\"celtic\"\\t\"male vocals\"\\t\"orchestra\"\\t\"eastern\"\\t\"old\"\\t\"flutes\"\\t\"punk\"\\t\"spanish\"\\t\"sad\"\\t\"sax\"\\t\"slow\"\\t\"male\"\\t\"blues\"\\t\"vocal\"\\t\"indian\"\\t\"no singer\"\\t\"scary\"\\t\"india\"\\t\"woman\"\\t\"woman singing\"\\t\"rock\"\\t\"dance\"\\t\"piano solo\"\\t\"guitars\"\\t\"no drums\"\\t\"jazzy\"\\t\"singing\"\\t\"cello\"\\t\"calm\"\\t\"female vocals\"\\t\"voices\"\\t\"different\"\\t\"techno\"\\t\"clapping\"\\t\"house\"\\t\"monks\"\\t\"flute\"\\t\"not opera\"\\t\"not english\"\\t\"oriental\"\\t\"beat\"\\t\"upbeat\"\\t\"soft\"\\t\"noise\"\\t\"choir\"\\t\"female singer\"\\t\"rap\"\\t\"metal\"\\t\"hip hop\"\\t\"quick\"\\t\"water\"\\t\"baroque\"\\t\"women\"\\t\"fiddle\"\\t\"english\"\\t\"mp3_path\"'], dtype='object')"
      ]
     },
     "execution_count": 51,
     "metadata": {},
     "output_type": "execute_result"
    }
   ],
   "source": [
    "airbnb_data.columns"
   ]
  },
  {
   "cell_type": "code",
   "execution_count": 52,
   "id": "e3581835",
   "metadata": {},
   "outputs": [],
   "source": [
    "filtered_songs = airbnb_data[airbnb_data.eq(1).any(axis=1)]"
   ]
  },
  {
   "cell_type": "code",
   "execution_count": 54,
   "id": "ef159793",
   "metadata": {},
   "outputs": [],
   "source": [
    "filtered_songs['heavy'] = 1"
   ]
  },
  {
   "cell_type": "code",
   "execution_count": 56,
   "id": "d356683e",
   "metadata": {
    "scrolled": true
   },
   "outputs": [
    {
     "name": "stdout",
     "output_type": "stream",
     "text": [
      "Songs with any tag equal to '1', marked as 'heavy':\n",
      "Empty DataFrame\n",
      "Columns: [clip_id\t\"no voice\"\t\"singer\"\t\"duet\"\t\"plucking\"\t\"hard rock\"\t\"world\"\t\"bongos\"\t\"harpsichord\"\t\"female singing\"\t\"clasical\"\t\"sitar\"\t\"chorus\"\t\"female opera\"\t\"male vocal\"\t\"vocals\"\t\"clarinet\"\t\"heavy\"\t\"silence\"\t\"beats\"\t\"men\"\t\"woodwind\"\t\"funky\"\t\"no strings\"\t\"chimes\"\t\"foreign\"\t\"no piano\"\t\"horns\"\t\"classical\"\t\"female\"\t\"no voices\"\t\"soft rock\"\t\"eerie\"\t\"spacey\"\t\"jazz\"\t\"guitar\"\t\"quiet\"\t\"no beat\"\t\"banjo\"\t\"electric\"\t\"solo\"\t\"violins\"\t\"folk\"\t\"female voice\"\t\"wind\"\t\"happy\"\t\"ambient\"\t\"new age\"\t\"synth\"\t\"funk\"\t\"no singing\"\t\"middle eastern\"\t\"trumpet\"\t\"percussion\"\t\"drum\"\t\"airy\"\t\"voice\"\t\"repetitive\"\t\"birds\"\t\"space\"\t\"strings\"\t\"bass\"\t\"harpsicord\"\t\"medieval\"\t\"male voice\"\t\"girl\"\t\"keyboard\"\t\"acoustic\"\t\"loud\"\t\"classic\"\t\"string\"\t\"drums\"\t\"electronic\"\t\"not classical\"\t\"chanting\"\t\"no violin\"\t\"not rock\"\t\"no guitar\"\t\"organ\"\t\"no vocal\"\t\"talking\"\t\"choral\"\t\"weird\"\t\"opera\"\t\"soprano\"\t\"fast\"\t\"acoustic guitar\"\t\"electric guitar\"\t\"male singer\"\t\"man singing\"\t\"classical guitar\"\t\"country\"\t\"violin\"\t\"electro\"\t\"reggae\"\t\"tribal\"\t\"dark\"\t\"male opera\"\t\"no vocals\"\t\"irish\"\t\"electronica\"\t\"horn\"\t\"operatic\"\t\"arabic\"\t\"lol\"\t\"low\"\t\"instrumental\"\t\"trance\"\t\"chant\"\t\"strange\"\t\"drone\"\t\"synthesizer\"\t\"heavy metal\"\t\"modern\"\t\"disco\"\t\"bells\"\t\"man\"\t\"deep\"\t\"fast beat\"\t\"industrial\"\t\"hard\"\t\"harp\"\t\"no flute\"\t\"jungle\"\t\"pop\"\t\"lute\"\t\"female vocal\"\t\"oboe\"\t\"mellow\"\t\"orchestral\"\t\"viola\"\t\"light\"\t\"echo\"\t\"piano\"\t\"celtic\"\t\"male vocals\"\t\"orchestra\"\t\"eastern\"\t\"old\"\t\"flutes\"\t\"punk\"\t\"spanish\"\t\"sad\"\t\"sax\"\t\"slow\"\t\"male\"\t\"blues\"\t\"vocal\"\t\"indian\"\t\"no singer\"\t\"scary\"\t\"india\"\t\"woman\"\t\"woman singing\"\t\"rock\"\t\"dance\"\t\"piano solo\"\t\"guitars\"\t\"no drums\"\t\"jazzy\"\t\"singing\"\t\"cello\"\t\"calm\"\t\"female vocals\"\t\"voices\"\t\"different\"\t\"techno\"\t\"clapping\"\t\"house\"\t\"monks\"\t\"flute\"\t\"not opera\"\t\"not english\"\t\"oriental\"\t\"beat\"\t\"upbeat\"\t\"soft\"\t\"noise\"\t\"choir\"\t\"female singer\"\t\"rap\"\t\"metal\"\t\"hip hop\"\t\"quick\"\t\"water\"\t\"baroque\"\t\"women\"\t\"fiddle\"\t\"english\"\t\"mp3_path\", heavy]\n",
      "Index: []\n"
     ]
    }
   ],
   "source": [
    "print(\"Songs with any tag equal to '1', marked as 'heavy':\")\n",
    "print(filtered_songs)"
   ]
  },
  {
   "cell_type": "code",
   "execution_count": null,
   "id": "4e20f50d",
   "metadata": {},
   "outputs": [],
   "source": []
  },
  {
   "cell_type": "code",
   "execution_count": null,
   "id": "f130225d",
   "metadata": {},
   "outputs": [],
   "source": []
  }
 ],
 "metadata": {
  "kernelspec": {
   "display_name": "Python 3 (ipykernel)",
   "language": "python",
   "name": "python3"
  },
  "language_info": {
   "codemirror_mode": {
    "name": "ipython",
    "version": 3
   },
   "file_extension": ".py",
   "mimetype": "text/x-python",
   "name": "python",
   "nbconvert_exporter": "python",
   "pygments_lexer": "ipython3",
   "version": "3.11.5"
  }
 },
 "nbformat": 4,
 "nbformat_minor": 5
}
